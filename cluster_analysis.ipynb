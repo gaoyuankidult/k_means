{
 "cells": [
  {
   "cell_type": "markdown",
   "metadata": {},
   "source": [
    "# Cluster Analysis"
   ]
  },
  {
   "cell_type": "markdown",
   "metadata": {},
   "source": [
    "## Import Nessasery Libraries"
   ]
  },
  {
   "cell_type": "code",
   "execution_count": 274,
   "metadata": {
    "collapsed": false
   },
   "outputs": [],
   "source": [
    "%matplotlib inline\n",
    "import matplotlib.pyplot as plt\n",
    "import numpy as np\n",
    "import itertools as itl"
   ]
  },
  {
   "cell_type": "markdown",
   "metadata": {},
   "source": [
    "## Define Statistic Methods"
   ]
  },
  {
   "cell_type": "code",
   "execution_count": 315,
   "metadata": {
    "collapsed": true
   },
   "outputs": [],
   "source": [
    "class StatsFuncs(object):    \n",
    "\n",
    "    @staticmethod\n",
    "    def normal(size, mean=0, var=1):\n",
    "        \"\"\"\n",
    "        shape: numpy arrays, shape of the outut\n",
    "        mean:  float mean of the normal distribution\n",
    "        var: vatriance of the normal distribution\n",
    "        \"\"\"\n",
    "        return np.random.normal(mean, var, size)\n",
    "\n",
    "    @staticmethod\n",
    "    def multivariate_normal(*args, **kwargs):\n",
    "        \"\"\"\n",
    "        alias of numpy.random.multivariate_normal\n",
    "        \"\"\"\n",
    "        return np.random.multivariate_normal(*args, **kwargs)\n",
    "    \n",
    "    @staticmethod\n",
    "    def uniform(*args, **kwargs):\n",
    "        \"\"\"\n",
    "        alias function of numpy.random.uniform\n",
    "        \"\"\"\n",
    "        return np.random.uniform(*args, **kwargs)\n",
    "            \n",
    "    @staticmethod\n",
    "    def choice(*args, **kwargs):\n",
    "        \"\"\"\n",
    "        alias function of numpy.random.choice\n",
    "        \"\"\"\n",
    "        return np.random.choice(*args, **kwargs)"
   ]
  },
  {
   "cell_type": "markdown",
   "metadata": {},
   "source": [
    "## Generate Dataset"
   ]
  },
  {
   "cell_type": "code",
   "execution_count": 448,
   "metadata": {
    "collapsed": false
   },
   "outputs": [],
   "source": [
    "class Datasets(object):\n",
    "    def __init__(self, cluster_num = 6):\n",
    "        stats = StatsFuncs()\n",
    "        size = 100\n",
    "        self.cluster_num = cluster_num\n",
    "        self.data = np.array([])\n",
    "        \n",
    "        \n",
    "        for i in xrange(self.cluster_num):\n",
    "            cluster_means = np.array([stats.choice(16), stats.choice(16)])\n",
    "            cluster_vars = np.array([[stats.choice([1, 2]), 0], \n",
    "                                      [0, stats.choice([1, 2])]])\n",
    "            if i == 0:\n",
    "                self.data = stats.multivariate_normal(cluster_means,\n",
    "                                                      cluster_vars,\n",
    "                                                      size)\n",
    "            else:    \n",
    "                self.data = np.vstack((self.data, stats.multivariate_normal(cluster_means,\n",
    "                                                                            cluster_vars,\n",
    "                                                                            size)))"
   ]
  },
  {
   "cell_type": "markdown",
   "metadata": {},
   "source": [
    "### What does data look like "
   ]
  },
  {
   "cell_type": "code",
   "execution_count": 449,
   "metadata": {
    "collapsed": false
   },
   "outputs": [
    {
     "data": {
      "image/png": "[encoded data removed]",
      "text/plain": [
       "<matplotlib.figure.Figure at 0x7f3e4b21a950>"
      ]
     },
     "metadata": {},
     "output_type": "display_data"
    }
   ],
   "source": [
    "dataset = Datasets()\n",
    "plt.scatter(dataset.data[:, 0], dataset.data[:, 1])\n",
    "plt.show()"
   ]
  },
  {
   "cell_type": "markdown",
   "metadata": {},
   "source": [
    "## Define KMeans Class"
   ]
  },
  {
   "cell_type": "code",
   "execution_count": 450,
   "metadata": {
    "collapsed": false
   },
   "outputs": [],
   "source": [
    "class KM(object):\n",
    "    def __init__(self, type=\"vanilla\"):\n",
    "        self.type = type\n",
    "        self.dataset = Datasets()\n",
    "        self.data = self.dataset.data\n",
    "        \n",
    "        self.stats = StatsFuncs()\n",
    "\n",
    "    def dist(self, c, data):\n",
    "        \"\"\"\n",
    "        calculate distances between points x and y\n",
    "        \"\"\"\n",
    "        dist = np.sqrt(((data - c) ** 2).sum(axis = 1))\n",
    "        return dist\n",
    "\n",
    "    def lloyd_routine(self, centers):\n",
    "        \"\"\"\n",
    "        repeat routine mentioned in lloyd's algorithm\n",
    "        \"\"\"\n",
    "        # get distances from different centers\n",
    "        center_dists = np.array([self.dist(center, self.data) for center in centers])\n",
    "\n",
    "\n",
    "        # get labels for all points\n",
    "        labels =  [reduce(np.logical_and, [center_dists[j] <= center_dists[i] for i in xrange(len(center_dists))])\n",
    "                   for j in xrange(len(center_dists))]\n",
    "\n",
    "        # revaluate centers\n",
    "        centers = [np.mean(self.data[label], axis=0) for label in labels]\n",
    "        \n",
    "        return centers, sum(center_dists).sum()\n",
    "        \n",
    "            \n",
    "    def kmeans(self):\n",
    "        # initialize centers in range (-4, 8) for x and y\n",
    "        if self.type == 'vanilla': \n",
    "            centers = self.dataset.data[self.stats.choice(self.dataset.data.shape[0], \n",
    "                                               self.dataset.cluster_num, replace=False), :]\n",
    "        elif self.type == 'kmeans++':\n",
    "            pass\n",
    "        traces = [centers]\n",
    "        dists = []\n",
    "        \n",
    "        # calculate the distance between centers and all points\n",
    "        for i in xrange(5):\n",
    "            centers, dist = self.lloyd_routine(centers)\n",
    "            traces.append(centers)\n",
    "            dists.append(dist)\n",
    "            \n",
    "        return np.array(traces), np.array(dists)\n",
    "    "
   ]
  },
  {
   "cell_type": "markdown",
   "metadata": {},
   "source": [
    "### Run Vallina KMeans Algorithm"
   ]
  },
  {
   "cell_type": "code",
   "execution_count": 452,
   "metadata": {
    "collapsed": false
   },
   "outputs": [
    {
     "name": "stdout",
     "output_type": "stream",
     "text": [
      "[329 171   3 494 177 293]\n",
      "[[  6.13359624   8.5559937 ]\n",
      " [  0.79331299  14.1753577 ]\n",
      " [  4.90179342  10.60671487]\n",
      " [  4.87566859   8.8439036 ]\n",
      " [  3.51823699  14.57345826]\n",
      " [  6.6405227    9.29885073]]\n"
     ]
    },
    {
     "data": {
      "image/png": "[encoded data removed]",
      "text/plain": [
       "<matplotlib.figure.Figure at 0x7f3e4b00d190>"
      ]
     },
     "metadata": {},
     "output_type": "display_data"
    },
    {
     "data": {
      "image/png": "[encoded data removed]",
      "text/plain": [
       "<matplotlib.figure.Figure at 0x7f3e4b42f510>"
      ]
     },
     "metadata": {},
     "output_type": "display_data"
    }
   ],
   "source": [
    "\n",
    "kmeans = KM() \n",
    "traces, dists = kmeans.kmeans()\n",
    "\n",
    "fig = plt.figure()\n",
    "centers_trace = fig.add_subplot(111)\n",
    "centers_trace.scatter(kmeans.dataset.data[:, 0], kmeans.dataset.data[:, 1])\n",
    "\n",
    "cycol = itl.cycle('grcmykw').next\n",
    "\n",
    "assert kmeans.dataset.cluster_num < 8, 'number of color is not enough for number of clusters'\n",
    "\n",
    "for i in xrange(kmeans.dataset.cluster_num):\n",
    "    centers_trace.plot(traces[:, i, 0], traces[:, i, 1], cycol()) \n",
    "\n",
    "cycol = itl.cycle('grcmykw').next\n",
    "for i in xrange(kmeans.dataset.cluster_num):\n",
    "    centers_trace.plot(traces[-1, i, 0], traces[-1, i, 1], cycol() + 'o') \n",
    "\n",
    "fig = plt.figure()\n",
    "dists_trace = fig.add_subplot(212)\n",
    "dists_trace.plot(dists)\n",
    "plt.show()"
   ]
  },
  {
   "cell_type": "markdown",
   "metadata": {},
   "source": [
    "### Run KMoids"
   ]
  },
  {
   "cell_type": "code",
   "execution_count": null,
   "metadata": {
    "collapsed": true
   },
   "outputs": [],
   "source": []
  },
  {
   "cell_type": "code",
   "execution_count": null,
   "metadata": {
    "collapsed": true
   },
   "outputs": [],
   "source": []
  }
 ],
 "metadata": {
  "kernelspec": {
   "display_name": "Python 2",
   "language": "python",
   "name": "python2"
  },
  "language_info": {
   "codemirror_mode": {
    "name": "ipython",
    "version": 2
   },
   "file_extension": ".py",
   "mimetype": "text/x-python",
   "name": "python",
   "nbconvert_exporter": "python",
   "pygments_lexer": "ipython2",
   "version": "2.7.11"
  }
 },
 "nbformat": 4,
 "nbformat_minor": 0
}
